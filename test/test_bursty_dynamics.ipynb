{
 "cells": [
  {
   "cell_type": "code",
   "execution_count": 13,
   "id": "4fcf8ed1-f350-44a1-be13-fb2c1f5f4eec",
   "metadata": {},
   "outputs": [
    {
     "ename": "ModuleNotFoundError",
     "evalue": "No module named 'burstydynamics'",
     "output_type": "error",
     "traceback": [
      "\u001b[0;31m---------------------------------------------------------------------------\u001b[0m",
      "\u001b[0;31mModuleNotFoundError\u001b[0m                       Traceback (most recent call last)",
      "Cell \u001b[0;32mIn[13], line 1\u001b[0m\n\u001b[0;32m----> 1\u001b[0m \u001b[38;5;28;01mfrom\u001b[39;00m \u001b[38;5;21;01mburstydynamics\u001b[39;00m\u001b[38;5;21;01m.\u001b[39;00m\u001b[38;5;21;01mscores\u001b[39;00m \u001b[38;5;28;01mimport\u001b[39;00m calculate_scores\n",
      "\u001b[0;31mModuleNotFoundError\u001b[0m: No module named 'burstydynamics'"
     ]
    }
   ],
   "source": [
    "from burstydynamics.scores import calculate_scores"
   ]
  },
  {
   "cell_type": "code",
   "execution_count": null,
   "id": "890d74d0-b037-478a-a3ac-a5a88a64225a",
   "metadata": {},
   "outputs": [],
   "source": []
  }
 ],
 "metadata": {
  "kernelspec": {
   "display_name": "package_env",
   "language": "python",
   "name": "package_env"
  },
  "language_info": {
   "codemirror_mode": {
    "name": "ipython",
    "version": 3
   },
   "file_extension": ".py",
   "mimetype": "text/x-python",
   "name": "python",
   "nbconvert_exporter": "python",
   "pygments_lexer": "ipython3",
   "version": "3.9.7"
  }
 },
 "nbformat": 4,
 "nbformat_minor": 5
}
