{
 "cells": [
  {
   "cell_type": "code",
   "execution_count": 6,
   "id": "4ea2d51f-7aa7-4730-8daa-eed5c9560869",
   "metadata": {},
   "outputs": [
    {
     "name": "stdout",
     "output_type": "stream",
     "text": [
      "Requirement already satisfied: bursty_dynamics in /data/WHRI-Bioinformatics/NIHR_AIM/CPRD/Papers/Burstiness/package_env/lib/python3.9/site-packages (0.0.1)\n",
      "Requirement already satisfied: numpy in /data/WHRI-Bioinformatics/NIHR_AIM/CPRD/Papers/Burstiness/package_env/lib/python3.9/site-packages (from bursty_dynamics) (1.26.4)\n",
      "Requirement already satisfied: pandas in /data/WHRI-Bioinformatics/NIHR_AIM/CPRD/Papers/Burstiness/package_env/lib/python3.9/site-packages (from bursty_dynamics) (2.2.2)\n",
      "Requirement already satisfied: seaborn in /data/WHRI-Bioinformatics/NIHR_AIM/CPRD/Papers/Burstiness/package_env/lib/python3.9/site-packages (from bursty_dynamics) (0.13.2)\n",
      "Requirement already satisfied: matplotlib in /data/WHRI-Bioinformatics/NIHR_AIM/CPRD/Papers/Burstiness/package_env/lib/python3.9/site-packages (from bursty_dynamics) (3.9.0)\n",
      "Requirement already satisfied: scipy in /data/WHRI-Bioinformatics/NIHR_AIM/CPRD/Papers/Burstiness/package_env/lib/python3.9/site-packages (from bursty_dynamics) (1.13.1)\n",
      "Requirement already satisfied: contourpy>=1.0.1 in /data/WHRI-Bioinformatics/NIHR_AIM/CPRD/Papers/Burstiness/package_env/lib/python3.9/site-packages (from matplotlib->bursty_dynamics) (1.2.1)\n",
      "Requirement already satisfied: cycler>=0.10 in /data/WHRI-Bioinformatics/NIHR_AIM/CPRD/Papers/Burstiness/package_env/lib/python3.9/site-packages (from matplotlib->bursty_dynamics) (0.12.1)\n",
      "Requirement already satisfied: fonttools>=4.22.0 in /data/WHRI-Bioinformatics/NIHR_AIM/CPRD/Papers/Burstiness/package_env/lib/python3.9/site-packages (from matplotlib->bursty_dynamics) (4.53.0)\n",
      "Requirement already satisfied: kiwisolver>=1.3.1 in /data/WHRI-Bioinformatics/NIHR_AIM/CPRD/Papers/Burstiness/package_env/lib/python3.9/site-packages (from matplotlib->bursty_dynamics) (1.4.5)\n",
      "Requirement already satisfied: packaging>=20.0 in /data/WHRI-Bioinformatics/NIHR_AIM/CPRD/Papers/Burstiness/package_env/lib/python3.9/site-packages (from matplotlib->bursty_dynamics) (24.1)\n",
      "Requirement already satisfied: pillow>=8 in /data/WHRI-Bioinformatics/NIHR_AIM/CPRD/Papers/Burstiness/package_env/lib/python3.9/site-packages (from matplotlib->bursty_dynamics) (10.3.0)\n",
      "Requirement already satisfied: pyparsing>=2.3.1 in /data/WHRI-Bioinformatics/NIHR_AIM/CPRD/Papers/Burstiness/package_env/lib/python3.9/site-packages (from matplotlib->bursty_dynamics) (3.1.2)\n",
      "Requirement already satisfied: python-dateutil>=2.7 in /data/WHRI-Bioinformatics/NIHR_AIM/CPRD/Papers/Burstiness/package_env/lib/python3.9/site-packages (from matplotlib->bursty_dynamics) (2.9.0.post0)\n",
      "Requirement already satisfied: importlib-resources>=3.2.0 in /data/WHRI-Bioinformatics/NIHR_AIM/CPRD/Papers/Burstiness/package_env/lib/python3.9/site-packages (from matplotlib->bursty_dynamics) (6.4.0)\n",
      "Requirement already satisfied: pytz>=2020.1 in /data/WHRI-Bioinformatics/NIHR_AIM/CPRD/Papers/Burstiness/package_env/lib/python3.9/site-packages (from pandas->bursty_dynamics) (2024.1)\n",
      "Requirement already satisfied: tzdata>=2022.7 in /data/WHRI-Bioinformatics/NIHR_AIM/CPRD/Papers/Burstiness/package_env/lib/python3.9/site-packages (from pandas->bursty_dynamics) (2024.1)\n",
      "Requirement already satisfied: zipp>=3.1.0 in /data/WHRI-Bioinformatics/NIHR_AIM/CPRD/Papers/Burstiness/package_env/lib/python3.9/site-packages (from importlib-resources>=3.2.0->matplotlib->bursty_dynamics) (3.19.2)\n",
      "Requirement already satisfied: six>=1.5 in /data/WHRI-Bioinformatics/NIHR_AIM/CPRD/Papers/Burstiness/package_env/lib/python3.9/site-packages (from python-dateutil>=2.7->matplotlib->bursty_dynamics) (1.16.0)\n",
      "Note: you may need to restart the kernel to use updated packages.\n"
     ]
    }
   ],
   "source": [
    "pip install bursty_dynamics"
   ]
  },
  {
   "cell_type": "code",
   "execution_count": 7,
   "id": "560476c4-f779-48fd-8daf-363126acadd9",
   "metadata": {},
   "outputs": [
    {
     "ename": "ModuleNotFoundError",
     "evalue": "No module named 'bursty_dynamics'",
     "output_type": "error",
     "traceback": [
      "\u001b[0;31m---------------------------------------------------------------------------\u001b[0m",
      "\u001b[0;31mModuleNotFoundError\u001b[0m                       Traceback (most recent call last)",
      "Cell \u001b[0;32mIn[7], line 1\u001b[0m\n\u001b[0;32m----> 1\u001b[0m \u001b[38;5;28;01mimport\u001b[39;00m \u001b[38;5;21;01mbursty_dynamics\u001b[39;00m\n",
      "\u001b[0;31mModuleNotFoundError\u001b[0m: No module named 'bursty_dynamics'"
     ]
    }
   ],
   "source": [
    "import bursty_dynamics"
   ]
  },
  {
   "cell_type": "code",
   "execution_count": null,
   "id": "9e24586d-0933-4443-80f9-e65814999015",
   "metadata": {},
   "outputs": [],
   "source": []
  }
 ],
 "metadata": {
  "kernelspec": {
   "display_name": "package_env",
   "language": "python",
   "name": "package_env"
  },
  "language_info": {
   "codemirror_mode": {
    "name": "ipython",
    "version": 3
   },
   "file_extension": ".py",
   "mimetype": "text/x-python",
   "name": "python",
   "nbconvert_exporter": "python",
   "pygments_lexer": "ipython3",
   "version": "3.9.7"
  }
 },
 "nbformat": 4,
 "nbformat_minor": 5
}
